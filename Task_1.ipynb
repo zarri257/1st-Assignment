{
 "cells": [
  {
   "cell_type": "code",
   "execution_count": 4,
   "id": "2daa87b5",
   "metadata": {},
   "outputs": [
    {
     "name": "stdout",
     "output_type": "stream",
     "text": [
      "output :\n",
      "4\n"
     ]
    }
   ],
   "source": [
    "def prime(n):\n",
    "    f=0\n",
    "    for i in range(1,n+1):\n",
    "        if n%i==0:\n",
    "            f=f+1\n",
    "\n",
    "    if f==2:\n",
    "        return 1\n",
    "    else:\n",
    "        return 0\n",
    "def count_digit(n):\n",
    "    c=0\n",
    "    while n!=0:\n",
    "        c=c+1\n",
    "        n=int(n/10)\n",
    "    return c\n",
    "#Main\n",
    "#num=int(input(\"Enter your input \"))\n",
    "result=0\n",
    "for num in range(1,1000000):\n",
    "\n",
    "\n",
    "    c=count_digit(num)\n",
    "    f=0\n",
    "    j=1\n",
    "    if prime(num)!=1:\n",
    "        f=1\n",
    "        #print(\"Number is not prime\")\n",
    "    else:\n",
    "        while c!=0:\n",
    "            temp=num\n",
    "            c=c-1\n",
    "            p=pow(10,c)\n",
    "            p1=pow(10,j)\n",
    "            rem=temp%p1\n",
    "            temp=int(temp/p1)\n",
    "            j=j+1\n",
    "            sum=rem*p+temp\n",
    "            if prime(sum)!=1:\n",
    "                f=1\n",
    "                break\n",
    "\n",
    "        if f==0:\n",
    "            result+=1\n",
    "            #print(\"number is prime\")\n",
    "        #else:\n",
    "         #   print(\"helo zarrar\")\n",
    "print(\"output :\")\n",
    "print(result)\n",
    "\n",
    "\n",
    "\n",
    "\n"
   ]
  },
  {
   "cell_type": "code",
   "execution_count": null,
   "id": "5ac1ac18",
   "metadata": {},
   "outputs": [],
   "source": []
  }
 ],
 "metadata": {
  "kernelspec": {
   "display_name": "Python 3 (ipykernel)",
   "language": "python",
   "name": "python3"
  },
  "language_info": {
   "codemirror_mode": {
    "name": "ipython",
    "version": 3
   },
   "file_extension": ".py",
   "mimetype": "text/x-python",
   "name": "python",
   "nbconvert_exporter": "python",
   "pygments_lexer": "ipython3",
   "version": "3.9.4"
  }
 },
 "nbformat": 4,
 "nbformat_minor": 5
}
