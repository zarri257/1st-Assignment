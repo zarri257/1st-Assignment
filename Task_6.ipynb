{
 "cells": [
  {
   "cell_type": "code",
   "execution_count": 19,
   "id": "abdeb151",
   "metadata": {},
   "outputs": [
    {
     "name": "stdout",
     "output_type": "stream",
     "text": [
      "current size:  3\n",
      "3\n",
      "2\n",
      "1\n",
      "current size:  1\n"
     ]
    }
   ],
   "source": [
    "from queue import Queue\n",
    "  \n",
    "class Stack:\n",
    "      \n",
    "    def __init__(self):\n",
    "          \n",
    "        self.s1 = Queue()\n",
    "        self.s2 = Queue() \n",
    "              \n",
    "        self.curr_size = 0\n",
    "  \n",
    "    def push(self, value):\n",
    "        self.curr_size += 1\n",
    "  \n",
    "        self.s2.put(value) \n",
    "  \n",
    "        while (not self.s1.empty()):\n",
    "            self.s2.put(self.s1.queue[0]) \n",
    "            self.s1.get()\n",
    "  \n",
    "        \n",
    "        self.q = self.s1 \n",
    "        self.s1 = self.s2 \n",
    "        self.s2 = self.q\n",
    "  \n",
    "    def pop(self):\n",
    "  \n",
    "        if (self.s1.empty()): \n",
    "            return\n",
    "        self.s1.get() \n",
    "        self.curr_size -= 1\n",
    "  \n",
    "    def top(self):\n",
    "        if (self.s1.empty()):\n",
    "            return -1\n",
    "        return self.s1.queue[0]\n",
    "  \n",
    "    def size(self):\n",
    "        return self.curr_size\n",
    "  \n",
    "\n",
    "if __name__ == '__main__':\n",
    "    s = Stack()\n",
    "    s.push(100) \n",
    "    s.push(200) \n",
    "    s.push(300) \n",
    "  \n",
    "    print(\"current size: \", s.size())\n",
    "    print(s.top()) \n",
    "    s.pop() \n",
    "    print(s.top()) \n",
    "    s.pop() \n",
    "    print(s.top()) \n",
    "  \n",
    "    print(\"current size: \", s.size())"
   ]
  },
  {
   "cell_type": "code",
   "execution_count": null,
   "id": "09a9ab36",
   "metadata": {},
   "outputs": [],
   "source": []
  }
 ],
 "metadata": {
  "kernelspec": {
   "display_name": "Python 3 (ipykernel)",
   "language": "python",
   "name": "python3"
  },
  "language_info": {
   "codemirror_mode": {
    "name": "ipython",
    "version": 3
   },
   "file_extension": ".py",
   "mimetype": "text/x-python",
   "name": "python",
   "nbconvert_exporter": "python",
   "pygments_lexer": "ipython3",
   "version": "3.9.4"
  }
 },
 "nbformat": 4,
 "nbformat_minor": 5
}
