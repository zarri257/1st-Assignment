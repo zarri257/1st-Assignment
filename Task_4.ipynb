{
 "cells": [
  {
   "cell_type": "code",
   "execution_count": 16,
   "id": "dd81d104",
   "metadata": {},
   "outputs": [
    {
     "name": "stdout",
     "output_type": "stream",
     "text": [
      "249\n"
     ]
    }
   ],
   "source": [
    "def reverse(value):\n",
    "  n = 0\n",
    "  while value > 0:\n",
    "    n = n * 10 + value % 10\n",
    "    value = value // 10\n",
    "  return n\n",
    "\n",
    "def is_Palindrome(value):\n",
    "  return reverse(value) == value\n",
    "\n",
    "def is_Check(n):\n",
    "  for i in range(50):\n",
    "    n+= reverse(n)\n",
    "    if isPalindrome(n):\n",
    "      return False\n",
    "  return True\n",
    "\n",
    "result = 0\n",
    "for i in range(10000):\n",
    "  if is_Check(i):\n",
    "    result+= 1\n",
    "#Main\n",
    "print(result)"
   ]
  },
  {
   "cell_type": "code",
   "execution_count": null,
   "id": "5613274d",
   "metadata": {},
   "outputs": [],
   "source": []
  }
 ],
 "metadata": {
  "kernelspec": {
   "display_name": "Python 3 (ipykernel)",
   "language": "python",
   "name": "python3"
  },
  "language_info": {
   "codemirror_mode": {
    "name": "ipython",
    "version": 3
   },
   "file_extension": ".py",
   "mimetype": "text/x-python",
   "name": "python",
   "nbconvert_exporter": "python",
   "pygments_lexer": "ipython3",
   "version": "3.9.4"
  }
 },
 "nbformat": 4,
 "nbformat_minor": 5
}
