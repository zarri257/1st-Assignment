{
 "cells": [
  {
   "cell_type": "code",
   "execution_count": 10,
   "id": "fa47dad1",
   "metadata": {},
   "outputs": [
    {
     "name": "stdout",
     "output_type": "stream",
     "text": [
      "120\n",
      "119\n",
      "111\n",
      "100\n"
     ]
    }
   ],
   "source": [
    "class Queue(object):\n",
    "    def __init__(self):#constructor\n",
    "        self.queue = []\n",
    "  \n",
    "    def __str__(self):\n",
    "        return ' '.join([str(i) for i in self.queue])#builit in function to join two string\n",
    "  \n",
    "    def isEmpty(self):#simple function\n",
    "        return len(self.queue) == 0\n",
    "\n",
    "    def insert(self, value):\n",
    "        self.queue.append(value)\n",
    "  \n",
    "   \n",
    "    def delete(self):\n",
    "        try:#Another library of python used to run error free program\n",
    "            max = 0\n",
    "            for i in range(len(self.queue)):\n",
    "                if self.queue[i] > self.queue[max]:\n",
    "                    max = i\n",
    "            item = self.queue[max]#store value in the item\n",
    "            del self.queue[max]#after storing the value the queue will be deleted\n",
    "              \n",
    "            return item\n",
    "        \n",
    "        except IndexError:\n",
    "            print()\n",
    "            exit()\n",
    "  \n",
    "\n",
    "if __name__ == '__main__':\n",
    "    ok = Queue()\n",
    "    ok.insert(120)\n",
    "    ok.insert(100)\n",
    "    ok.insert(111)\n",
    "    ok.insert(119)           \n",
    "    while not ok.isEmpty():\n",
    "        \n",
    "        print(ok.delete())"
   ]
  },
  {
   "cell_type": "code",
   "execution_count": null,
   "id": "ed1d9931",
   "metadata": {},
   "outputs": [],
   "source": []
  }
 ],
 "metadata": {
  "kernelspec": {
   "display_name": "Python 3 (ipykernel)",
   "language": "python",
   "name": "python3"
  },
  "language_info": {
   "codemirror_mode": {
    "name": "ipython",
    "version": 3
   },
   "file_extension": ".py",
   "mimetype": "text/x-python",
   "name": "python",
   "nbconvert_exporter": "python",
   "pygments_lexer": "ipython3",
   "version": "3.9.4"
  }
 },
 "nbformat": 4,
 "nbformat_minor": 5
}
