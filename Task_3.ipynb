{
 "cells": [
  {
   "cell_type": "code",
   "execution_count": 12,
   "id": "816283bc",
   "metadata": {},
   "outputs": [
    {
     "name": "stdout",
     "output_type": "stream",
     "text": [
      "23\n",
      "37\n",
      "53\n",
      "73\n",
      "313\n",
      "317\n",
      "373\n",
      "797\n",
      "3137\n",
      "3797\n",
      "739397\n",
      "sum 748317\n"
     ]
    }
   ],
   "source": [
    "def check(value):\n",
    "    for i in zarrar_(value):\n",
    "        if not check_prime(i):\n",
    "            return False\n",
    "    return True\n",
    "def check_prime(n):\n",
    "    if n in {2, 3, 5, 7}:\n",
    "        return True\n",
    "    if n < 2 or n%2 == 0:\n",
    "        return False\n",
    "    if n%3 == 0 or n%5 == 0:\n",
    "        return False\n",
    "    r = int(n**0.5)\n",
    "    f = 5\n",
    "    while f <= r:\n",
    "        if n%f == 0 or n%(f+2) == 0:\n",
    "            return False\n",
    "        f += 6\n",
    "    return True\n",
    "\n",
    "def zarrar_(nb):\n",
    "    yield nb\n",
    "    nb_str = str(nb)\n",
    "    for k in range(1, len(nb_str)):\n",
    "        yield int(nb_str[k:])\n",
    "        yield int(nb_str[:-k])\n",
    "counter = size = 0\n",
    "index = 11\n",
    "while counter < 11:\n",
    "    if check(index):\n",
    "        counter += 1\n",
    "        size += index\n",
    "        print(index)\n",
    "    index += 2\n",
    "\n",
    "print('sum', size)\n",
    "#yield is used to return statement in a function."
   ]
  },
  {
   "cell_type": "code",
   "execution_count": null,
   "id": "e68913e4",
   "metadata": {},
   "outputs": [],
   "source": []
  }
 ],
 "metadata": {
  "kernelspec": {
   "display_name": "Python 3 (ipykernel)",
   "language": "python",
   "name": "python3"
  },
  "language_info": {
   "codemirror_mode": {
    "name": "ipython",
    "version": 3
   },
   "file_extension": ".py",
   "mimetype": "text/x-python",
   "name": "python",
   "nbconvert_exporter": "python",
   "pygments_lexer": "ipython3",
   "version": "3.9.4"
  }
 },
 "nbformat": 4,
 "nbformat_minor": 5
}
