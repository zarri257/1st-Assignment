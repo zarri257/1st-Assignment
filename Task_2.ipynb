{
 "cells": [
  {
   "cell_type": "code",
   "execution_count": null,
   "metadata": {},
   "outputs": [],
   "source": [
    "LIMIT = 1000000\n",
    "\n",
    "x = [1] * (LIMIT + 1)\n",
    "x[0] = x[1] = 0\n",
    "\n",
    "primes = []\n",
    "length = 0\n",
    "\n",
    "for i in range(2, LIMIT):\n",
    "    if x[i]:\n",
    "        primes.append(i)\n",
    "        length += 1\n",
    "\n",
    "        for j in range(i * i, LIMIT + 1, i):\n",
    "            x[j] = 0\n",
    "\n",
    "s = 0\n",
    "prev = -1\n",
    "cnt = -1\n",
    "\n",
    "for i in range(length):\n",
    "    s = 0\n",
    "\n",
    "    for j in range(i, length):\n",
    "        s += primes[j]\n",
    "\n",
    "        if s > LIMIT:\n",
    "            break\n",
    "\n",
    "        if x[s] and cnt < j - i + 1:\n",
    "            cnt = j - i + 1\n",
    "            prev = s\n",
    "\n",
    "print(prev)"
   ]
  }
 ],
 "metadata": {
  "language_info": {
   "name": "plaintext"
  }
 },
 "nbformat": 4,
 "nbformat_minor": 5
}
